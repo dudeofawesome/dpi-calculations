{
 "cells": [
  {
   "cell_type": "code",
   "execution_count": 17,
   "metadata": {},
   "outputs": [],
   "source": [
    "from ipywidgets import interact\n",
    "import ipywidgets as widgets"
   ]
  },
  {
   "cell_type": "markdown",
   "metadata": {},
   "source": [
    "# DPI Calculations"
   ]
  },
  {
   "cell_type": "markdown",
   "metadata": {},
   "source": [
    "## Constants"
   ]
  },
  {
   "cell_type": "code",
   "execution_count": 18,
   "metadata": {},
   "outputs": [],
   "source": [
    "original_dpi = 2000\n",
    "new_dpi = 1600\n",
    "\n",
    "original_sens_bf4 = 0.0048375\n",
    "original_sens_destiny = 3.4158"
   ]
  },
  {
   "cell_type": "markdown",
   "metadata": {},
   "source": [
    "## Calculations"
   ]
  },
  {
   "cell_type": "code",
   "execution_count": 19,
   "metadata": {},
   "outputs": [
    {
     "data": {
      "application/vnd.jupyter.widget-view+json": {
       "model_id": "d455eb08999445fa81068319a56ae8e9",
       "version_major": 2,
       "version_minor": 0
      },
      "text/plain": [
       "interactive(children=(IntSlider(value=1600, description='x', max=3200, min=400, step=100), Output()), _dom_cla…"
      ]
     },
     "metadata": {},
     "output_type": "display_data"
    }
   ],
   "source": [
    "def calculate_new_sens(x):\n",
    "    new_dpi = x\n",
    "    print(f\"New DPI: {new_dpi}\")\n",
    "    \n",
    "    multiplier = original_dpi / new_dpi\n",
    "\n",
    "    new_sens_bf4 = original_sens_bf4 * multiplier\n",
    "    new_sens_destiny = original_sens_destiny * multiplier\n",
    "    new_sens_destiny_in_game = round(new_sens_destiny)\n",
    "    new_sens_destiny_error = abs(new_sens_destiny_in_game - new_sens_destiny) / new_sens_destiny\n",
    "\n",
    "    print(f\"BF4: {new_sens_bf4}\")\n",
    "    print(f\"Destiny: {'{:.2f}'.format(new_sens_destiny)} (In-game: {new_sens_destiny_in_game}, {'{:.2f}'.format(new_sens_destiny_error)}% error)\")\n",
    "\n",
    "interact(calculate_new_sens, x=widgets.IntSlider(min=400, max=3200, step=100, value=new_dpi));"
   ]
  }
 ],
 "metadata": {
  "kernelspec": {
   "display_name": "Python 3",
   "language": "python",
   "name": "python3"
  },
  "language_info": {
   "codemirror_mode": {
    "name": "ipython",
    "version": 3
   },
   "file_extension": ".py",
   "mimetype": "text/x-python",
   "name": "python",
   "nbconvert_exporter": "python",
   "pygments_lexer": "ipython3",
   "version": "3.7.6"
  }
 },
 "nbformat": 4,
 "nbformat_minor": 4
}
