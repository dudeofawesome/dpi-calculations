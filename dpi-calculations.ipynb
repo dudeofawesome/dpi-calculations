{
 "cells": [
  {
   "cell_type": "code",
   "execution_count": 1,
   "metadata": {
    "jupyter": {
     "source_hidden": true
    }
   },
   "outputs": [],
   "source": [
    "from ipywidgets import interact\n",
    "import ipywidgets as widgets"
   ]
  },
  {
   "cell_type": "markdown",
   "metadata": {},
   "source": [
    "# DPI Calculations"
   ]
  },
  {
   "cell_type": "markdown",
   "metadata": {},
   "source": [
    "## Constants"
   ]
  },
  {
   "cell_type": "code",
   "execution_count": 22,
   "metadata": {},
   "outputs": [],
   "source": [
    "original_dpi = 2000\n",
    "new_dpi = 1600\n",
    "\n",
    "original_sens_bf4 = 0.0048375\n",
    "original_sens_destiny = 3.4158"
   ]
  },
  {
   "cell_type": "markdown",
   "metadata": {},
   "source": [
    "## Calculations"
   ]
  },
  {
   "cell_type": "code",
   "execution_count": 21,
   "metadata": {},
   "outputs": [
    {
     "data": {
      "application/vnd.jupyter.widget-view+json": {
       "model_id": "cb49de84cca8489fb16e29935426ec46",
       "version_major": 2,
       "version_minor": 0
      },
      "text/plain": [
       "interactive(children=(IntSlider(value=1600, description='x', max=3200, min=400, step=100), Output()), _dom_cla…"
      ]
     },
     "metadata": {},
     "output_type": "display_data"
    }
   ],
   "source": [
    "def calculate_new_sens(x):\n",
    "    new_dpi = x\n",
    "    print(f\"New DPI: {new_dpi}\")\n",
    "    \n",
    "    multiplier = original_dpi / new_dpi\n",
    "\n",
    "    new_sens_bf4 = original_sens_bf4 * multiplier\n",
    "    new_sens_destiny = original_sens_destiny * multiplier\n",
    "\n",
    "    print(f\"BF4: {new_sens_bf4}\")\n",
    "    print(f\"Destiny: {'{:.2f}'.format(new_sens_destiny)}\")\n",
    "\n",
    "interact(calculate_new_sens, x=widgets.IntSlider(min=400, max=3200, step=100, value=new_dpi));"
   ]
  },
  {
   "cell_type": "code",
   "execution_count": null,
   "metadata": {},
   "outputs": [],
   "source": []
  }
 ],
 "metadata": {
  "kernelspec": {
   "display_name": "Python 3",
   "language": "python",
   "name": "python3"
  },
  "language_info": {
   "codemirror_mode": {
    "name": "ipython",
    "version": 3
   },
   "file_extension": ".py",
   "mimetype": "text/x-python",
   "name": "python",
   "nbconvert_exporter": "python",
   "pygments_lexer": "ipython3",
   "version": "3.7.6"
  }
 },
 "nbformat": 4,
 "nbformat_minor": 4
}
